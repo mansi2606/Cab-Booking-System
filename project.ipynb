{
  "nbformat": 4,
  "nbformat_minor": 0,
  "metadata": {
    "colab": {
      "name": "project.ipynb",
      "provenance": [],
      "authorship_tag": "ABX9TyOw7MY1jIR2bGcfoCfNExvr",
      "include_colab_link": true
    },
    "kernelspec": {
      "name": "python3",
      "display_name": "Python 3"
    }
  },
  "cells": [
    {
      "cell_type": "markdown",
      "metadata": {
        "id": "view-in-github",
        "colab_type": "text"
      },
      "source": [
        "<a href=\"https://colab.research.google.com/github/mansi2606/Cab-Booking-System/blob/main/project.ipynb\" target=\"_parent\"><img src=\"https://colab.research.google.com/assets/colab-badge.svg\" alt=\"Open In Colab\"/></a>"
      ]
    },
    {
      "cell_type": "code",
      "metadata": {
        "id": "SAp3gJrQ7190"
      },
      "source": [
        "import pandas as pd\n",
        "import numpy as np\n",
        "import matplotlib.pyplot as plt\n"
      ],
      "execution_count": 71,
      "outputs": []
    },
    {
      "cell_type": "code",
      "metadata": {
        "id": "5kgaT6aV8PqP",
        "outputId": "a70bda66-47db-4b4b-b216-032f70ec8c1d",
        "colab": {
          "base_uri": "https://localhost:8080/",
          "height": 197
        }
      },
      "source": [
        "url= 'https://raw.githubusercontent.com/mansi2606/Cab-Booking-System/main/train.csv'\n",
        "train=pd.read_csv(url)\n",
        "train.head()\n"
      ],
      "execution_count": 72,
      "outputs": [
        {
          "output_type": "execute_result",
          "data": {
            "text/html": [
              "<div>\n",
              "<style scoped>\n",
              "    .dataframe tbody tr th:only-of-type {\n",
              "        vertical-align: middle;\n",
              "    }\n",
              "\n",
              "    .dataframe tbody tr th {\n",
              "        vertical-align: top;\n",
              "    }\n",
              "\n",
              "    .dataframe thead th {\n",
              "        text-align: right;\n",
              "    }\n",
              "</style>\n",
              "<table border=\"1\" class=\"dataframe\">\n",
              "  <thead>\n",
              "    <tr style=\"text-align: right;\">\n",
              "      <th></th>\n",
              "      <th>datetime</th>\n",
              "      <th>season</th>\n",
              "      <th>holiday</th>\n",
              "      <th>workingday</th>\n",
              "      <th>weather</th>\n",
              "      <th>temp</th>\n",
              "      <th>atemp</th>\n",
              "      <th>humidity</th>\n",
              "      <th>windspeed</th>\n",
              "    </tr>\n",
              "  </thead>\n",
              "  <tbody>\n",
              "    <tr>\n",
              "      <th>0</th>\n",
              "      <td>5/2/2012 19:00</td>\n",
              "      <td>Summer</td>\n",
              "      <td>0</td>\n",
              "      <td>1</td>\n",
              "      <td>Clear + Few clouds</td>\n",
              "      <td>22.14</td>\n",
              "      <td>25.760</td>\n",
              "      <td>77</td>\n",
              "      <td>16.9979</td>\n",
              "    </tr>\n",
              "    <tr>\n",
              "      <th>1</th>\n",
              "      <td>9/5/2012 4:00</td>\n",
              "      <td>Fall</td>\n",
              "      <td>0</td>\n",
              "      <td>1</td>\n",
              "      <td>Clear + Few clouds</td>\n",
              "      <td>28.70</td>\n",
              "      <td>33.335</td>\n",
              "      <td>79</td>\n",
              "      <td>19.0012</td>\n",
              "    </tr>\n",
              "    <tr>\n",
              "      <th>2</th>\n",
              "      <td>1/13/2011 9:00</td>\n",
              "      <td>Spring</td>\n",
              "      <td>0</td>\n",
              "      <td>1</td>\n",
              "      <td>Clear + Few clouds</td>\n",
              "      <td>5.74</td>\n",
              "      <td>6.060</td>\n",
              "      <td>50</td>\n",
              "      <td>22.0028</td>\n",
              "    </tr>\n",
              "    <tr>\n",
              "      <th>3</th>\n",
              "      <td>11/18/2011 16:00</td>\n",
              "      <td>Winter</td>\n",
              "      <td>0</td>\n",
              "      <td>1</td>\n",
              "      <td>Clear + Few clouds</td>\n",
              "      <td>13.94</td>\n",
              "      <td>16.665</td>\n",
              "      <td>29</td>\n",
              "      <td>8.9981</td>\n",
              "    </tr>\n",
              "    <tr>\n",
              "      <th>4</th>\n",
              "      <td>9/13/2011 13:00</td>\n",
              "      <td>Fall</td>\n",
              "      <td>0</td>\n",
              "      <td>1</td>\n",
              "      <td>Clear + Few clouds</td>\n",
              "      <td>30.34</td>\n",
              "      <td>33.335</td>\n",
              "      <td>51</td>\n",
              "      <td>19.0012</td>\n",
              "    </tr>\n",
              "  </tbody>\n",
              "</table>\n",
              "</div>"
            ],
            "text/plain": [
              "           datetime  season  holiday  ...   atemp humidity  windspeed\n",
              "0    5/2/2012 19:00  Summer        0  ...  25.760       77    16.9979\n",
              "1     9/5/2012 4:00    Fall        0  ...  33.335       79    19.0012\n",
              "2    1/13/2011 9:00  Spring        0  ...   6.060       50    22.0028\n",
              "3  11/18/2011 16:00  Winter        0  ...  16.665       29     8.9981\n",
              "4   9/13/2011 13:00    Fall        0  ...  33.335       51    19.0012\n",
              "\n",
              "[5 rows x 9 columns]"
            ]
          },
          "metadata": {
            "tags": []
          },
          "execution_count": 72
        }
      ]
    },
    {
      "cell_type": "code",
      "metadata": {
        "id": "QS_Ubw6y8hdS",
        "outputId": "a17a6bce-30b6-428c-990f-e10e741ea7c0",
        "colab": {
          "base_uri": "https://localhost:8080/"
        }
      },
      "source": [
        "url_label='https://raw.githubusercontent.com/mansi2606/Cab-Booking-System/main/train_label.csv'\n",
        "train_label=pd.read_csv(url_label)\n",
        "train_label.head()\n",
        "train_label.shape"
      ],
      "execution_count": 73,
      "outputs": [
        {
          "output_type": "execute_result",
          "data": {
            "text/plain": [
              "(8707, 1)"
            ]
          },
          "metadata": {
            "tags": []
          },
          "execution_count": 73
        }
      ]
    },
    {
      "cell_type": "code",
      "metadata": {
        "id": "ObGWXCk09S0e",
        "outputId": "ef466fff-4c06-40dd-f45c-9d90d4a7abd1",
        "colab": {
          "base_uri": "https://localhost:8080/",
          "height": 197
        }
      },
      "source": [
        "train.isnull().sum()\n",
        "train_label.isnull().sum()\n",
        "train.shape\n",
        "train['Total_Booking']=train_label\n",
        "train.head()"
      ],
      "execution_count": 74,
      "outputs": [
        {
          "output_type": "execute_result",
          "data": {
            "text/html": [
              "<div>\n",
              "<style scoped>\n",
              "    .dataframe tbody tr th:only-of-type {\n",
              "        vertical-align: middle;\n",
              "    }\n",
              "\n",
              "    .dataframe tbody tr th {\n",
              "        vertical-align: top;\n",
              "    }\n",
              "\n",
              "    .dataframe thead th {\n",
              "        text-align: right;\n",
              "    }\n",
              "</style>\n",
              "<table border=\"1\" class=\"dataframe\">\n",
              "  <thead>\n",
              "    <tr style=\"text-align: right;\">\n",
              "      <th></th>\n",
              "      <th>datetime</th>\n",
              "      <th>season</th>\n",
              "      <th>holiday</th>\n",
              "      <th>workingday</th>\n",
              "      <th>weather</th>\n",
              "      <th>temp</th>\n",
              "      <th>atemp</th>\n",
              "      <th>humidity</th>\n",
              "      <th>windspeed</th>\n",
              "      <th>Total_Booking</th>\n",
              "    </tr>\n",
              "  </thead>\n",
              "  <tbody>\n",
              "    <tr>\n",
              "      <th>0</th>\n",
              "      <td>5/2/2012 19:00</td>\n",
              "      <td>Summer</td>\n",
              "      <td>0</td>\n",
              "      <td>1</td>\n",
              "      <td>Clear + Few clouds</td>\n",
              "      <td>22.14</td>\n",
              "      <td>25.760</td>\n",
              "      <td>77</td>\n",
              "      <td>16.9979</td>\n",
              "      <td>5.0</td>\n",
              "    </tr>\n",
              "    <tr>\n",
              "      <th>1</th>\n",
              "      <td>9/5/2012 4:00</td>\n",
              "      <td>Fall</td>\n",
              "      <td>0</td>\n",
              "      <td>1</td>\n",
              "      <td>Clear + Few clouds</td>\n",
              "      <td>28.70</td>\n",
              "      <td>33.335</td>\n",
              "      <td>79</td>\n",
              "      <td>19.0012</td>\n",
              "      <td>139.0</td>\n",
              "    </tr>\n",
              "    <tr>\n",
              "      <th>2</th>\n",
              "      <td>1/13/2011 9:00</td>\n",
              "      <td>Spring</td>\n",
              "      <td>0</td>\n",
              "      <td>1</td>\n",
              "      <td>Clear + Few clouds</td>\n",
              "      <td>5.74</td>\n",
              "      <td>6.060</td>\n",
              "      <td>50</td>\n",
              "      <td>22.0028</td>\n",
              "      <td>209.0</td>\n",
              "    </tr>\n",
              "    <tr>\n",
              "      <th>3</th>\n",
              "      <td>11/18/2011 16:00</td>\n",
              "      <td>Winter</td>\n",
              "      <td>0</td>\n",
              "      <td>1</td>\n",
              "      <td>Clear + Few clouds</td>\n",
              "      <td>13.94</td>\n",
              "      <td>16.665</td>\n",
              "      <td>29</td>\n",
              "      <td>8.9981</td>\n",
              "      <td>184.0</td>\n",
              "    </tr>\n",
              "    <tr>\n",
              "      <th>4</th>\n",
              "      <td>9/13/2011 13:00</td>\n",
              "      <td>Fall</td>\n",
              "      <td>0</td>\n",
              "      <td>1</td>\n",
              "      <td>Clear + Few clouds</td>\n",
              "      <td>30.34</td>\n",
              "      <td>33.335</td>\n",
              "      <td>51</td>\n",
              "      <td>19.0012</td>\n",
              "      <td>791.0</td>\n",
              "    </tr>\n",
              "  </tbody>\n",
              "</table>\n",
              "</div>"
            ],
            "text/plain": [
              "           datetime  season  holiday  ...  humidity windspeed  Total_Booking\n",
              "0    5/2/2012 19:00  Summer        0  ...        77   16.9979            5.0\n",
              "1     9/5/2012 4:00    Fall        0  ...        79   19.0012          139.0\n",
              "2    1/13/2011 9:00  Spring        0  ...        50   22.0028          209.0\n",
              "3  11/18/2011 16:00  Winter        0  ...        29    8.9981          184.0\n",
              "4   9/13/2011 13:00    Fall        0  ...        51   19.0012          791.0\n",
              "\n",
              "[5 rows x 10 columns]"
            ]
          },
          "metadata": {
            "tags": []
          },
          "execution_count": 74
        }
      ]
    },
    {
      "cell_type": "code",
      "metadata": {
        "id": "LVDAu6v0CQYR",
        "outputId": "8a5458c3-1c99-452e-a17a-a49eb43630aa",
        "colab": {
          "base_uri": "https://localhost:8080/",
          "height": 882
        }
      },
      "source": [
        "train.season.unique()\n",
        "train.boxplot(figsize=(20,15))\n",
        " \n",
        "\n",
        "# train['Total_Booking'].hist(bins=100,figsize=(10,15))\n",
        "# plt.yticks(np.arange(0, 1000, step=20))\n",
        "# plt.show()\n",
        "\n",
        "# train['Total_Booking']>500"
      ],
      "execution_count": 75,
      "outputs": [
        {
          "output_type": "execute_result",
          "data": {
            "text/plain": [
              "<matplotlib.axes._subplots.AxesSubplot at 0x7f6c7fe79780>"
            ]
          },
          "metadata": {
            "tags": []
          },
          "execution_count": 75
        },
        {
          "output_type": "display_data",
          "data": {
            "image/png": "[encoded data removed]",
            "text/plain": [
              "<Figure size 1440x1080 with 1 Axes>"
            ]
          },
          "metadata": {
            "tags": [],
            "needs_background": "light"
          }
        }
      ]
    },
    {
      "cell_type": "code",
      "metadata": {
        "id": "RGus_qpMFFBG",
        "outputId": "0808ad45-3b66-4c90-ad9d-ea292e25b1cd",
        "colab": {
          "base_uri": "https://localhost:8080/"
        }
      },
      "source": [
        "train['Total_Booking'][train['Total_Booking']>520].count()"
      ],
      "execution_count": 76,
      "outputs": [
        {
          "output_type": "execute_result",
          "data": {
            "text/plain": [
              "568"
            ]
          },
          "metadata": {
            "tags": []
          },
          "execution_count": 76
        }
      ]
    },
    {
      "cell_type": "code",
      "metadata": {
        "id": "iQVTRZVVGOyX",
        "outputId": "45730607-28af-4a86-98bd-125369631f37",
        "colab": {
          "base_uri": "https://localhost:8080/",
          "height": 882
        }
      },
      "source": [
        "train['Total_Booking']=np.clip(train['Total_Booking'],0,520)\n",
        "train.boxplot(figsize=(10,15))"
      ],
      "execution_count": 77,
      "outputs": [
        {
          "output_type": "execute_result",
          "data": {
            "text/plain": [
              "<matplotlib.axes._subplots.AxesSubplot at 0x7f6c7d4d3128>"
            ]
          },
          "metadata": {
            "tags": []
          },
          "execution_count": 77
        },
        {
          "output_type": "display_data",
          "data": {
            "image/png": "[encoded data removed]",
            "text/plain": [
              "<Figure size 720x1080 with 1 Axes>"
            ]
          },
          "metadata": {
            "tags": [],
            "needs_background": "light"
          }
        }
      ]
    },
    {
      "cell_type": "code",
      "metadata": {
        "id": "iUteCXu7RkKA"
      },
      "source": [
        "# train['windspeed'].hist(bins=100,figsize=(10,15))\n",
        "# plt.yticks(np.arange(0, 1000, step=20))\n",
        "# plt.show()\n",
        "# train['windspeed']=np.clip(train['windspeed'],0,980)\n",
        "# train.boxplot(figsize=(10,15))"
      ],
      "execution_count": 65,
      "outputs": []
    },
    {
      "cell_type": "code",
      "metadata": {
        "id": "_X2leLMASK5a",
        "outputId": "5fc2a0a4-4191-48c0-b968-a4634dbb0ac9",
        "colab": {
          "base_uri": "https://localhost:8080/",
          "height": 882
        }
      },
      "source": [
        "q1=train['windspeed'].quantile(0.25)\n",
        "q3=train['windspeed'].quantile(0.75)\n",
        "iqr=q3-q1\n",
        "train['windspeed']=np.clip(train['windspeed'],0,1.5*iqr+q3)\n",
        "train.boxplot(figsize=(10,15))"
      ],
      "execution_count": 78,
      "outputs": [
        {
          "output_type": "execute_result",
          "data": {
            "text/plain": [
              "<matplotlib.axes._subplots.AxesSubplot at 0x7f6c85eb74e0>"
            ]
          },
          "metadata": {
            "tags": []
          },
          "execution_count": 78
        },
        {
          "output_type": "display_data",
          "data": {
            "image/png": "[encoded data removed]",
            "text/plain": [
              "<Figure size 720x1080 with 1 Axes>"
            ]
          },
          "metadata": {
            "tags": [],
            "needs_background": "light"
          }
        }
      ]
    },
    {
      "cell_type": "code",
      "metadata": {
        "id": "aq9YeKXgbcW5",
        "outputId": "541018e8-8b12-4a80-dd56-8f97d328d169",
        "colab": {
          "base_uri": "https://localhost:8080/",
          "height": 197
        }
      },
      "source": [
        "train.dtypes\n",
        "train['datetime']=pd.to_datetime(train['datetime'])\n",
        "train.dtypes\n",
        "train['time']=train.datetime.dt.time\n",
        "train['month']=train.datetime.dt.month_name()\n",
        "train['day']=train.datetime.dt.day_name()\n",
        "train['year']=train.datetime.dt.year\n",
        "train.head()"
      ],
      "execution_count": 93,
      "outputs": [
        {
          "output_type": "execute_result",
          "data": {
            "text/html": [
              "<div>\n",
              "<style scoped>\n",
              "    .dataframe tbody tr th:only-of-type {\n",
              "        vertical-align: middle;\n",
              "    }\n",
              "\n",
              "    .dataframe tbody tr th {\n",
              "        vertical-align: top;\n",
              "    }\n",
              "\n",
              "    .dataframe thead th {\n",
              "        text-align: right;\n",
              "    }\n",
              "</style>\n",
              "<table border=\"1\" class=\"dataframe\">\n",
              "  <thead>\n",
              "    <tr style=\"text-align: right;\">\n",
              "      <th></th>\n",
              "      <th>datetime</th>\n",
              "      <th>season</th>\n",
              "      <th>holiday</th>\n",
              "      <th>workingday</th>\n",
              "      <th>weather</th>\n",
              "      <th>temp</th>\n",
              "      <th>atemp</th>\n",
              "      <th>humidity</th>\n",
              "      <th>windspeed</th>\n",
              "      <th>Total_Booking</th>\n",
              "      <th>time</th>\n",
              "      <th>month</th>\n",
              "      <th>day</th>\n",
              "      <th>year</th>\n",
              "    </tr>\n",
              "  </thead>\n",
              "  <tbody>\n",
              "    <tr>\n",
              "      <th>0</th>\n",
              "      <td>2012-05-02 19:00:00</td>\n",
              "      <td>Summer</td>\n",
              "      <td>0</td>\n",
              "      <td>1</td>\n",
              "      <td>Clear + Few clouds</td>\n",
              "      <td>22.14</td>\n",
              "      <td>25.760</td>\n",
              "      <td>77</td>\n",
              "      <td>16.9979</td>\n",
              "      <td>5.0</td>\n",
              "      <td>19:00:00</td>\n",
              "      <td>May</td>\n",
              "      <td>Wednesday</td>\n",
              "      <td>2012</td>\n",
              "    </tr>\n",
              "    <tr>\n",
              "      <th>1</th>\n",
              "      <td>2012-09-05 04:00:00</td>\n",
              "      <td>Fall</td>\n",
              "      <td>0</td>\n",
              "      <td>1</td>\n",
              "      <td>Clear + Few clouds</td>\n",
              "      <td>28.70</td>\n",
              "      <td>33.335</td>\n",
              "      <td>79</td>\n",
              "      <td>19.0012</td>\n",
              "      <td>139.0</td>\n",
              "      <td>04:00:00</td>\n",
              "      <td>September</td>\n",
              "      <td>Wednesday</td>\n",
              "      <td>2012</td>\n",
              "    </tr>\n",
              "    <tr>\n",
              "      <th>2</th>\n",
              "      <td>2011-01-13 09:00:00</td>\n",
              "      <td>Spring</td>\n",
              "      <td>0</td>\n",
              "      <td>1</td>\n",
              "      <td>Clear + Few clouds</td>\n",
              "      <td>5.74</td>\n",
              "      <td>6.060</td>\n",
              "      <td>50</td>\n",
              "      <td>22.0028</td>\n",
              "      <td>209.0</td>\n",
              "      <td>09:00:00</td>\n",
              "      <td>January</td>\n",
              "      <td>Thursday</td>\n",
              "      <td>2011</td>\n",
              "    </tr>\n",
              "    <tr>\n",
              "      <th>3</th>\n",
              "      <td>2011-11-18 16:00:00</td>\n",
              "      <td>Winter</td>\n",
              "      <td>0</td>\n",
              "      <td>1</td>\n",
              "      <td>Clear + Few clouds</td>\n",
              "      <td>13.94</td>\n",
              "      <td>16.665</td>\n",
              "      <td>29</td>\n",
              "      <td>8.9981</td>\n",
              "      <td>184.0</td>\n",
              "      <td>16:00:00</td>\n",
              "      <td>November</td>\n",
              "      <td>Friday</td>\n",
              "      <td>2011</td>\n",
              "    </tr>\n",
              "    <tr>\n",
              "      <th>4</th>\n",
              "      <td>2011-09-13 13:00:00</td>\n",
              "      <td>Fall</td>\n",
              "      <td>0</td>\n",
              "      <td>1</td>\n",
              "      <td>Clear + Few clouds</td>\n",
              "      <td>30.34</td>\n",
              "      <td>33.335</td>\n",
              "      <td>51</td>\n",
              "      <td>19.0012</td>\n",
              "      <td>520.0</td>\n",
              "      <td>13:00:00</td>\n",
              "      <td>September</td>\n",
              "      <td>Tuesday</td>\n",
              "      <td>2011</td>\n",
              "    </tr>\n",
              "  </tbody>\n",
              "</table>\n",
              "</div>"
            ],
            "text/plain": [
              "             datetime  season  holiday  ...      month        day  year\n",
              "0 2012-05-02 19:00:00  Summer        0  ...        May  Wednesday  2012\n",
              "1 2012-09-05 04:00:00    Fall        0  ...  September  Wednesday  2012\n",
              "2 2011-01-13 09:00:00  Spring        0  ...    January   Thursday  2011\n",
              "3 2011-11-18 16:00:00  Winter        0  ...   November     Friday  2011\n",
              "4 2011-09-13 13:00:00    Fall        0  ...  September    Tuesday  2011\n",
              "\n",
              "[5 rows x 14 columns]"
            ]
          },
          "metadata": {
            "tags": []
          },
          "execution_count": 93
        }
      ]
    },
    {
      "cell_type": "code",
      "metadata": {
        "id": "12AWg3j5dexg"
      },
      "source": [
        ""
      ],
      "execution_count": null,
      "outputs": []
    }
  ]
}